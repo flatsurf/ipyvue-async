{
 "cells": [
  {
   "cell_type": "markdown",
   "metadata": {},
   "source": [
    "# Asynchronous RPC with Vue Components\n",
    "In this example we create an HTML5 `<video>` component on the client, pause and unpause it from the server and query some of its properties.\n",
    "\n",
    "You could replace `<video>` with any other Vue component or HTML tag and then call its methods from the server. If a Vue component you would like to use is not available for ipyvue directly, you might want to have a look at [ipyvue-remote-component](https://github.com/saraedum/ipyvue-remote-component) or at using `<component :is=…>`, see below."
   ]
  },
  {
   "cell_type": "code",
   "execution_count": null,
   "metadata": {},
   "outputs": [],
   "source": [
    "from ipyvue import VueTemplate\n",
    "from traitlets import Unicode\n",
    "from ipyvue_comm import CommWidget"
   ]
  },
  {
   "cell_type": "code",
   "execution_count": null,
   "metadata": {},
   "outputs": [],
   "source": [
    "class Video(VueTemplate, CommWidget):\n",
    "    r\"\"\"\n",
    "    Shows 'Elephants Dream' by Orange Open Movie Project Studio, licensed under CC-3.0.\n",
    "    \"\"\"\n",
    "    template = Unicode(r\"\"\"\n",
    "    <comm :refs=\"$refs\">\n",
    "      <video ref=\"video\" width=\"512\" poster=\"https://upload.wikimedia.org/wikipedia/commons/e/e8/Elephants_Dream_s5_both.jpg\" >\n",
    "        <source src=\"https://archive.org/download/ElephantsDream/ed_1024_512kb.mp4\" type=\"video/mp4\">\n",
    "        <source src=\"https://archive.org/download/ElephantsDream/ed_hd.ogv\" type=\"video/ogg\">\n",
    "        <source src=\"https://archive.org/download/ElephantsDream/ed_hd.avi\" type=\"video/avi\">\n",
    "        Your browser doesn't support HTML 5 video.\n",
    "      </video>\n",
    "    </comm>\n",
    "    \"\"\").tag(sync=True)\n",
    "    \n",
    "    async def play(self):\n",
    "        r\"\"\"\n",
    "        Start video playback.\n",
    "        \n",
    "        Calls `play` without parameters on the actual video component but does not report its\n",
    "        return value or any errors.\n",
    "        \"\"\"\n",
    "        return await self.poll(self.call(\"video\", \"play\"))\n",
    "        \n",
    "    async def pause(self):\n",
    "        r\"\"\"\n",
    "        Pause video playback.\n",
    "        \n",
    "        Calls `pause` witout parameters on the actual video component but does not report its\n",
    "        return value or any errors.      \n",
    "        \"\"\"\n",
    "        return await self.poll(self.call(\"video\", \"pause\"))\n",
    "        \n",
    "    async def paused(self):\n",
    "        r\"\"\"\n",
    "        Determine whether the videos are currently paused.\n",
    "        \n",
    "        Queries the \"paused\" attribute of the <video> elements.\n",
    "\n",
    "        Note that the returned value can safely be awaited despite https://github.com/ipython/ipython/issues/12786\n",
    "        since we are using https://github.com/Kirill888/jupyter-ui-poll to work around limitations\n",
    "        in Jupyter's Python kernel.\n",
    "        \"\"\"\n",
    "        return await self.poll(self.query(\"video\", \"paused\"))"
   ]
  },
  {
   "cell_type": "markdown",
   "metadata": {},
   "source": [
    "We show the same video twice:"
   ]
  },
  {
   "cell_type": "code",
   "execution_count": null,
   "metadata": {
    "scrolled": true
   },
   "outputs": [],
   "source": [
    "video = Video()\n",
    "\n",
    "# optional: shows the underlying communication on the console where this notebook was started.\n",
    "# video.log.setLevel('DEBUG')\n",
    "\n",
    "video"
   ]
  },
  {
   "cell_type": "code",
   "execution_count": null,
   "metadata": {},
   "outputs": [],
   "source": [
    "video"
   ]
  },
  {
   "cell_type": "markdown",
   "metadata": {},
   "source": [
    "Start video playback by calling `.play()` on the `<video>` element."
   ]
  },
  {
   "cell_type": "code",
   "execution_count": null,
   "metadata": {},
   "outputs": [],
   "source": [
    "await video.play()"
   ]
  },
  {
   "cell_type": "markdown",
   "metadata": {},
   "source": [
    "Pause the video again by calling `.pause()` on the `<video>` elements."
   ]
  },
  {
   "cell_type": "code",
   "execution_count": null,
   "metadata": {},
   "outputs": [],
   "source": [
    "await video.pause()"
   ]
  },
  {
   "cell_type": "markdown",
   "metadata": {},
   "source": [
    "Query the state of the video asynchronously:"
   ]
  },
  {
   "cell_type": "code",
   "execution_count": null,
   "metadata": {
    "scrolled": false
   },
   "outputs": [],
   "source": [
    "await video.paused()"
   ]
  },
  {
   "cell_type": "markdown",
   "metadata": {},
   "source": [
    "## Invoking Methods on an Externally Hosted Vue Component\n",
    "Using ipyvue-remote-component, we can pull in components that have not been prepared for use ipyvue in any way."
   ]
  },
  {
   "cell_type": "code",
   "execution_count": null,
   "metadata": {},
   "outputs": [],
   "source": [
    "from ipyvue_remote_component import RemoteComponent\n",
    "\n",
    "class Plot(VueTemplate, RemoteComponent, CommWidget):\n",
    "    r\"\"\"\n",
    "    Display a plot with plotly.\n",
    "    \n",
    "    Note that in this particular example, it is much easier to just use traitlets to synchronize the x and y\n",
    "    coordinates, see https://github.com/saraedum/ipyvue-remote-component/blob/master/examples/DynamicPlot.ipynb.\n",
    "    The downside of using a traitlet is that it is less efficient since all the points need to be transferred \n",
    "    to the client with every update.\n",
    "    \"\"\"\n",
    "    template = Unicode(r\"\"\"\n",
    "    <comm :refs=\"$refs\">\n",
    "        <component ref=\"plot\" :is=\"{\n",
    "            template: `\n",
    "                <remote-component\n",
    "                    url='https://unpkg.com/vue-plotly@^1/dist/vue-plotly.umd.min.js'\n",
    "                    integrity='sha384-3YjbENL4Izchmbn7RCdWL5tHYGPP7fy2B/vzCgBd3corbolRfPgjimXK4JEwGpYg'\n",
    "                    :extract='library => library.Plotly'\n",
    "                    :data='[{ x: [...x], y: [...y], type: &quot;scatter&quot; }]'\n",
    "                />\n",
    "            `,\n",
    "            data: function(){\n",
    "                return {\n",
    "                    x: [],\n",
    "                    y: [],\n",
    "                };\n",
    "            },\n",
    "            methods: {\n",
    "                push: function(x, y) {\n",
    "                    this.x.push(x);\n",
    "                    this.y.push(y);\n",
    "                },\n",
    "            },\n",
    "        }\" />\n",
    "    </comm>\"\"\").tag(sync=True)\n",
    "    \n",
    "    async def push(self, x, y):\n",
    "        r\"\"\"\n",
    "        Add a point with given (x, y) coordinates to the scatter plot.\n",
    "        \"\"\"\n",
    "        return await self.poll(self.call(\"plot\", \"push\", x, y))\n",
    "    \n",
    "plot = Plot()\n",
    "plot"
   ]
  },
  {
   "cell_type": "code",
   "execution_count": null,
   "metadata": {},
   "outputs": [],
   "source": [
    "await plot.push(0, 1)\n",
    "await plot.push(1, 3)\n",
    "await plot.push(2, 3)\n",
    "await plot.push(3, 7)"
   ]
  },
  {
   "cell_type": "markdown",
   "metadata": {},
   "source": [
    "## Invoking Async Methods on a Component\n",
    "In this example, the component on the frontend has a method `wait()` that returns a promise. Invoking this method with `query()` awaits the result of the promise and reports it back to Python."
   ]
  },
  {
   "cell_type": "code",
   "execution_count": null,
   "metadata": {},
   "outputs": [],
   "source": [
    "class WaitForClick(VueTemplate, CommWidget):\n",
    "    r\"\"\"\n",
    "    Displays a button and waits for the user to click on it.\n",
    "    \"\"\"\n",
    "    template = Unicode(r\"\"\"\n",
    "    <comm :refs=\"$refs\">\n",
    "        <component ref=\"clickable\" :is=\"{\n",
    "            template: `<button @click='click'>{{ state }}</div>`,\n",
    "            data: function() {\n",
    "                return {\n",
    "                    resolve: null\n",
    "                };\n",
    "            },\n",
    "            computed: {\n",
    "                state: function() {\n",
    "                    return this.resolve ? 'Waiting for Click.' : 'Ready.';\n",
    "                }\n",
    "            },\n",
    "            methods: {\n",
    "                wait: async function() {\n",
    "                    return await new Promise((resolve) => {\n",
    "                        this.resolve = resolve;\n",
    "                    })\n",
    "                },\n",
    "                click: function() {\n",
    "                    if (this.resolve)\n",
    "                        this.resolve('Ok.')\n",
    "                    this.resolve = null;\n",
    "                }\n",
    "            }\n",
    "        }\" />\n",
    "    </comm>\n",
    "    \"\"\").tag(sync=True)\n",
    "    \n",
    "    async def wait(self):\n",
    "        r\"\"\"\n",
    "        Call the component's `wait` method and await the \"Ok.\" it returns.\n",
    "        \"\"\"\n",
    "        import asyncio\n",
    "        return await self.poll(self.query(\"clickable\", \"wait\", return_when=asyncio.FIRST_COMPLETED))\n",
    "    \n",
    "waiter = WaitForClick()\n",
    "waiter"
   ]
  },
  {
   "cell_type": "code",
   "execution_count": null,
   "metadata": {},
   "outputs": [],
   "source": [
    "waiter"
   ]
  },
  {
   "cell_type": "code",
   "execution_count": null,
   "metadata": {},
   "outputs": [],
   "source": [
    "await waiter.wait()"
   ]
  },
  {
   "cell_type": "markdown",
   "metadata": {},
   "source": [
    "## Using Cancellation Tokens\n",
    "\n",
    "There is a small issue in the above component. Since the same widget is shown twice, we only want the user to click the button in either of the two. But currently, one button is still waiting to be pressed even though nobody is actually waiting for that click anymore. We can of course explicitly ask all the frontend instances to cancel the request:"
   ]
  },
  {
   "cell_type": "code",
   "execution_count": null,
   "metadata": {},
   "outputs": [],
   "source": [
    "class WaitForClick(VueTemplate, CommWidget):\n",
    "    r\"\"\"\n",
    "    Displays a button and waits for the user to click on it.\n",
    "    \"\"\"\n",
    "    template = Unicode(r\"\"\"\n",
    "    <comm :refs=\"$refs\">\n",
    "        <component ref=\"clickable\" :is=\"{\n",
    "            template: `<button @click='click'>{{ state }}</div>`,\n",
    "            data: function() {\n",
    "                return {\n",
    "                    resolve: null\n",
    "                };\n",
    "            },\n",
    "            computed: {\n",
    "                state: function() {\n",
    "                    return this.resolve ? 'Waiting for Click.' : 'Ready.';\n",
    "                }\n",
    "            },\n",
    "            methods: {\n",
    "                wait: async function() {\n",
    "                    return await new Promise((resolve) => {\n",
    "                        this.resolve = resolve;\n",
    "                    })\n",
    "                },\n",
    "                cancel: function() {\n",
    "                    this.resolve = null;\n",
    "                },\n",
    "                click: function() {\n",
    "                    if (this.resolve)\n",
    "                        this.resolve('Ok.')\n",
    "                    this.resolve = null;\n",
    "                }\n",
    "            }\n",
    "        }\" />\n",
    "    </comm>\n",
    "    \"\"\").tag(sync=True)\n",
    "    \n",
    "    async def wait(self):\n",
    "        r\"\"\"\n",
    "        Call the component's `wait` method and await the \"Ok.\" it returns.\n",
    "        \"\"\"\n",
    "        import asyncio\n",
    "        value = await self.poll(self.query(\"clickable\", \"wait\", return_when=asyncio.FIRST_COMPLETED))\n",
    "        await self.poll(self.call(\"clickable\", \"cancel\"))\n",
    "        return value\n",
    "    \n",
    "waiter = WaitForClick()\n",
    "waiter"
   ]
  },
  {
   "cell_type": "code",
   "execution_count": null,
   "metadata": {},
   "outputs": [],
   "source": [
    "waiter"
   ]
  },
  {
   "cell_type": "code",
   "execution_count": null,
   "metadata": {},
   "outputs": [],
   "source": [
    "await waiter.wait()"
   ]
  },
  {
   "cell_type": "markdown",
   "metadata": {},
   "source": [
    "However, since this is a very common issue, such cancellation can also be handled directly on the client by providing a `cancel()` method on the returned promise:"
   ]
  },
  {
   "cell_type": "code",
   "execution_count": null,
   "metadata": {},
   "outputs": [],
   "source": [
    "class WaitForClick(VueTemplate, CommWidget):\n",
    "    r\"\"\"\n",
    "    Displays a button and waits for the user to click on it.\n",
    "    \"\"\"\n",
    "    template = Unicode(r\"\"\"\n",
    "    <comm :refs=\"$refs\">\n",
    "        <component ref=\"clickable\" :is=\"{\n",
    "            template: `<button @click='click'>{{ state }}</div>`,\n",
    "            data: function() {\n",
    "                return {\n",
    "                    resolve: null\n",
    "                };\n",
    "            },\n",
    "            computed: {\n",
    "                state: function() {\n",
    "                    return this.resolve ? 'Waiting for Click.' : 'Ready.';\n",
    "                }\n",
    "            },\n",
    "            methods: {\n",
    "                wait: function() {\n",
    "                    const token = {\n",
    "                        cancelled: false,\n",
    "                    };\n",
    "                    const promise = this.waitAsync(token);\n",
    "                    promise.cancel = () => {\n",
    "                        token.cancelled = true;\n",
    "                        this.cancel();\n",
    "                    };\n",
    "                    return promise;\n",
    "                },\n",
    "                waitAsync: async function() {\n",
    "                    return await new Promise((resolve) => {\n",
    "                        this.resolve = resolve;\n",
    "                    })\n",
    "                },\n",
    "                cancel: function() {\n",
    "                    this.resolve = null;\n",
    "                },\n",
    "                click: function() {\n",
    "                    if (this.resolve)\n",
    "                        this.resolve('Ok.')\n",
    "                    this.resolve = null;\n",
    "                }\n",
    "            }\n",
    "        }\" />\n",
    "    </comm>\n",
    "    \"\"\").tag(sync=True)\n",
    "    \n",
    "    async def wait(self):\n",
    "        r\"\"\"\n",
    "        Call the component's `wait` method and await the \"Ok.\" it returns.\n",
    "        \"\"\"\n",
    "        import asyncio\n",
    "        return await self.poll(self.query(\"clickable\", \"wait\", return_when=asyncio.FIRST_COMPLETED))\n",
    "    \n",
    "waiter = WaitForClick()\n",
    "waiter"
   ]
  },
  {
   "cell_type": "code",
   "execution_count": null,
   "metadata": {},
   "outputs": [],
   "source": [
    "waiter"
   ]
  },
  {
   "cell_type": "code",
   "execution_count": null,
   "metadata": {},
   "outputs": [],
   "source": [
    "await waiter.wait()"
   ]
  }
 ],
 "metadata": {
  "kernelspec": {
   "display_name": "SageMath 9.3",
   "language": "sage",
   "name": "sagemath"
  },
  "language_info": {
   "codemirror_mode": {
    "name": "ipython",
    "version": 3
   },
   "file_extension": ".py",
   "mimetype": "text/x-python",
   "name": "python",
   "nbconvert_exporter": "python",
   "pygments_lexer": "ipython3",
   "version": "3.9.7"
  }
 },
 "nbformat": 4,
 "nbformat_minor": 4
}
